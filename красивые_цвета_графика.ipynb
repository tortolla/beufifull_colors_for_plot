{
  "nbformat": 4,
  "nbformat_minor": 0,
  "metadata": {
    "colab": {
      "provenance": []
    },
    "kernelspec": {
      "name": "python3",
      "display_name": "Python 3"
    },
    "language_info": {
      "name": "python"
    }
  },
  "cells": [
    {
      "cell_type": "code",
      "execution_count": 4,
      "metadata": {
        "colab": {
          "base_uri": "https://localhost:8080/",
          "height": 641
        },
        "id": "A2V8Af1kETfM",
        "outputId": "1fc35fc5-c4e6-4302-d324-1523144770fe"
      },
      "outputs": [
        {
          "output_type": "error",
          "ename": "NameError",
          "evalue": "name 'x' is not defined",
          "traceback": [
            "\u001b[0;31m---------------------------------------------------------------------------\u001b[0m",
            "\u001b[0;31mNameError\u001b[0m                                 Traceback (most recent call last)",
            "\u001b[0;32m<ipython-input-4-4b8c8cd7d7b6>\u001b[0m in \u001b[0;36m<cell line: 9>\u001b[0;34m()\u001b[0m\n\u001b[1;32m      8\u001b[0m \u001b[0;34m\u001b[0m\u001b[0m\n\u001b[1;32m      9\u001b[0m sns.scatterplot(\n\u001b[0;32m---> 10\u001b[0;31m     \u001b[0mx\u001b[0m\u001b[0;34m=\u001b[0m\u001b[0mx\u001b[0m\u001b[0;34m[\u001b[0m\u001b[0;34m:\u001b[0m\u001b[0;34m,\u001b[0m \u001b[0;36m0\u001b[0m\u001b[0;34m]\u001b[0m\u001b[0;34m,\u001b[0m\u001b[0;34m\u001b[0m\u001b[0;34m\u001b[0m\u001b[0m\n\u001b[0m\u001b[1;32m     11\u001b[0m     \u001b[0my\u001b[0m\u001b[0;34m=\u001b[0m\u001b[0mx\u001b[0m\u001b[0;34m[\u001b[0m\u001b[0;34m:\u001b[0m\u001b[0;34m,\u001b[0m \u001b[0;36m1\u001b[0m\u001b[0;34m]\u001b[0m\u001b[0;34m,\u001b[0m\u001b[0;34m\u001b[0m\u001b[0;34m\u001b[0m\u001b[0m\n\u001b[1;32m     12\u001b[0m     \u001b[0mhue\u001b[0m\u001b[0;34m=\u001b[0m\u001b[0my\u001b[0m\u001b[0;34m,\u001b[0m\u001b[0;34m\u001b[0m\u001b[0;34m\u001b[0m\u001b[0m\n",
            "\u001b[0;31mNameError\u001b[0m: name 'x' is not defined"
          ]
        },
        {
          "output_type": "display_data",
          "data": {
            "text/plain": [
              "<Figure size 500x500 with 1 Axes>"
            ],
            "image/png": "[encoded data removed]"
          },
          "metadata": {}
        }
      ],
      "source": [
        "from matplotlib.colors import ListedColormap\n",
        "from sklearn.inspection import DecisionBoundaryDisplay\n",
        "from sklearn import svm\n",
        "import matplotlib.pyplot as plt\n",
        "import seaborn as sns\n",
        "\n",
        "fig, ax = plt.subplots(1, 1, figsize=(5, 5))\n",
        "\n",
        "sns.scatterplot(\n",
        "    x=x[:, 0],\n",
        "    y=x[:, 1],\n",
        "    hue=y,\n",
        "    s=50,\n",
        "    ax=ax,\n",
        "    palette=sns.color_palette([\"#2DA9E1\", \"#F9B041\"]),\n",
        ")\n",
        "#plt.show()\n",
        "\n",
        "\n",
        "def plot_svm(x, y, clf):\n",
        "    dull_cmap = ListedColormap([\"#B8E1EC\", \"#FEE7D0\"])\n",
        "    fig, ax = plt.subplots(1, 1, figsize=(5, 5))\n",
        "\n",
        "    disp = DecisionBoundaryDisplay.from_estimator(\n",
        "        clf,\n",
        "        x,\n",
        "        response_method=\"predict\",\n",
        "        cmap=dull_cmap,\n",
        "        alpha=0.8,\n",
        "        xlabel=\"feature 1\",\n",
        "        ylabel=\"feature 2\",\n",
        "        ax=ax,\n",
        "    )\n",
        "\n",
        "    sns.scatterplot(\n",
        "        x=x[:, 0],\n",
        "        y=x[:, 1],\n",
        "        hue=y,\n",
        "        s=50,\n",
        "        ax=ax,\n",
        "        palette=sns.color_palette([\"#2DA9E1\", \"#F9B041\"]),\n",
        "    )\n",
        "    plt.show()\n",
        "\n",
        "\n",
        "clf = svm.SVC(kernel=\"rbf\")\n",
        "clf.fit(x, y)\n",
        "plot_svm(x, y, clf)\n",
        "\n",
        "\n",
        "sns.scatterplot(x=x[:, 0], y=x[:, 1], hue=y, s=50, ax=ax)"
      ]
    }
  ]
}